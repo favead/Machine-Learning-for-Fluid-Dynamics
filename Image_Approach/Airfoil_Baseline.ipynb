{
 "cells": [
  {
   "cell_type": "code",
   "execution_count": 1,
   "id": "3d4e6c2e-d0b9-4ab8-b394-3c1620556b6e",
   "metadata": {
    "execution": {
     "iopub.execute_input": "2022-12-06T19:00:47.350775Z",
     "iopub.status.busy": "2022-12-06T19:00:47.350054Z",
     "iopub.status.idle": "2022-12-06T19:00:49.946157Z",
     "shell.execute_reply": "2022-12-06T19:00:49.945190Z",
     "shell.execute_reply.started": "2022-12-06T19:00:47.350664Z"
    }
   },
   "outputs": [],
   "source": [
    "import numpy as np\n",
    "import torch\n",
    "from torch import nn, optim, Tensor\n",
    "import torch.nn.functional as F\n",
    "from torch.utils.data import Dataset, DataLoader\n",
    "\n",
    "\n",
    "from pathlib import Path\n",
    "from sklearn.model_selection import train_test_split\n",
    "import matplotlib.pyplot as plt\n",
    "import seaborn as sns\n",
    "\n",
    "from PIL import Image\n",
    "from torchvision import models\n",
    "\n",
    "from typing import List, Tuple, Dict"
   ]
  },
  {
   "cell_type": "code",
   "execution_count": 2,
   "id": "cb59ad7e-5a61-4407-bb33-a558ccf0a587",
   "metadata": {
    "execution": {
     "iopub.execute_input": "2022-12-06T19:00:53.276689Z",
     "iopub.status.busy": "2022-12-06T19:00:53.276168Z",
     "iopub.status.idle": "2022-12-06T19:00:53.287559Z",
     "shell.execute_reply": "2022-12-06T19:00:53.286719Z",
     "shell.execute_reply.started": "2022-12-06T19:00:53.276660Z"
    }
   },
   "outputs": [
    {
     "data": {
      "text/plain": [
       "device(type='cuda')"
      ]
     },
     "execution_count": 2,
     "metadata": {},
     "output_type": "execute_result"
    }
   ],
   "source": [
    "device = torch.device('cuda') if torch.cuda.is_available() else torch.device('cpu')\n",
    "device"
   ]
  },
  {
   "cell_type": "code",
   "execution_count": 3,
   "id": "a8e6d541-4dbc-465d-b662-f77fe4ceb0fa",
   "metadata": {
    "execution": {
     "iopub.execute_input": "2022-12-06T19:01:01.784527Z",
     "iopub.status.busy": "2022-12-06T19:01:01.784042Z",
     "iopub.status.idle": "2022-12-06T19:01:02.207153Z",
     "shell.execute_reply": "2022-12-06T19:01:02.206095Z",
     "shell.execute_reply.started": "2022-12-06T19:01:01.784488Z"
    }
   },
   "outputs": [
    {
     "name": "stdout",
     "output_type": "stream",
     "text": [
      "/notebooks/data\n",
      "test  train\n"
     ]
    }
   ],
   "source": [
    "%cd data\n",
    "! ls"
   ]
  },
  {
   "cell_type": "code",
   "execution_count": 4,
   "id": "73d920e9-4699-4544-8f10-066faf19a4a2",
   "metadata": {
    "execution": {
     "iopub.execute_input": "2022-12-06T19:01:09.770151Z",
     "iopub.status.busy": "2022-12-06T19:01:09.769774Z",
     "iopub.status.idle": "2022-12-06T19:01:09.775131Z",
     "shell.execute_reply": "2022-12-06T19:01:09.774279Z",
     "shell.execute_reply.started": "2022-12-06T19:01:09.770121Z"
    }
   },
   "outputs": [],
   "source": [
    "data_path = Path.cwd()\n",
    "train_path, test_path = Path(data_path, 'train'), Path(data_path, 'test')"
   ]
  },
  {
   "cell_type": "code",
   "execution_count": null,
   "id": "52fb0878-f612-4314-8068-1174ff215861",
   "metadata": {},
   "outputs": [],
   "source": [
    "%cd .."
   ]
  },
  {
   "cell_type": "code",
   "execution_count": 5,
   "id": "40c3eb25-40e5-447d-92ad-f9c4b8855427",
   "metadata": {
    "execution": {
     "iopub.execute_input": "2022-12-06T19:01:14.482315Z",
     "iopub.status.busy": "2022-12-06T19:01:14.481580Z",
     "iopub.status.idle": "2022-12-06T19:01:14.493591Z",
     "shell.execute_reply": "2022-12-06T19:01:14.492391Z",
     "shell.execute_reply.started": "2022-12-06T19:01:14.482274Z"
    }
   },
   "outputs": [],
   "source": [
    "class AirfoilDataset(Dataset):\n",
    "    __AVAILABLE_MODES = ['train', 'val', 'test']\n",
    "    \n",
    "    def __init__(self, files: List[str], mode: str) -> None:\n",
    "        super(AirfoilDataset, self).__init__()\n",
    "        self.files = sorted(files)\n",
    "        self.mode = mode\n",
    "        \n",
    "        if self.mode not in self.__AVAILABLE_MODES:\n",
    "            print(f\"Available data modes: {self.__AVAILABLE_MODES}\")\n",
    "            raise NameError\n",
    "        \n",
    "        self.len_ = len(files)\n",
    "        \n",
    "    def __len__(self) -> int:\n",
    "        return self.len_\n",
    "    \n",
    "    def load_sample(self, filename: str) -> Tuple[Tensor, Tensor]:\n",
    "        with np.load(filename) as data:\n",
    "            a = data['a']\n",
    "            x = torch.from_numpy(a[:3, ...])\n",
    "            y = torch.from_numpy(a[3:, ...])\n",
    "            return x, y\n",
    "        \n",
    "    def __getitem__(self, index: int) -> Tuple[Tensor, Tensor]:\n",
    "        filename = self.files[index]\n",
    "        x, y = self.load_sample(filename)\n",
    "        x = self.__prepare_sample(x)\n",
    "        x = x.float()\n",
    "        y = y.float()\n",
    "        return x, y\n",
    "    \n",
    "    def __prepare_sample(self, x: Tensor) -> Tensor:\n",
    "        x = self.__std_mean(x)\n",
    "        return x\n",
    "        \n",
    "    def __std_mean(self, t: Tensor) -> Tensor:\n",
    "        std, mean = torch.std_mean(t, dim=0)\n",
    "        t = (t - mean) / std\n",
    "        return t"
   ]
  },
  {
   "cell_type": "code",
   "execution_count": 6,
   "id": "7fecd2c6-16c8-483c-a722-a46e5a65bab7",
   "metadata": {
    "execution": {
     "iopub.execute_input": "2022-12-06T19:02:06.364738Z",
     "iopub.status.busy": "2022-12-06T19:02:06.363897Z",
     "iopub.status.idle": "2022-12-06T19:02:06.376783Z",
     "shell.execute_reply": "2022-12-06T19:02:06.375667Z",
     "shell.execute_reply.started": "2022-12-06T19:02:06.364708Z"
    }
   },
   "outputs": [],
   "source": [
    "def train(model: nn.Module, opt: optim.Adam, train_dataset: AirfoilDataset, \\\n",
    "          val_dataset: AirfoilDataset, loss_func: nn.MSELoss, \\\n",
    "          scheduler: optim.lr_scheduler.StepLR, batch_size: int = 64, epochs: int = 10) -> List[List[float]]:\n",
    "    losses = []\n",
    "    train_total = len(train_dataset)\n",
    "    val_total = len(val_dataset)\n",
    "    train_loader = DataLoader(train_dataset, batch_size=batch_size, shuffle=True)\n",
    "    val_loader = DataLoader(val_dataset, batch_size=batch_size, shuffle=False)\n",
    "    for epoch in range(epochs):\n",
    "        train_loss = fit_epoch(model, opt, train_loader, loss_func, batch_size, train_total=train_total)\n",
    "        val_loss = val_epoch(model, val_loader, loss_func, batch_size, val_total=val_total)\n",
    "        \n",
    "        losses.append([train_loss, val_loss])\n",
    "        print(f\"Epoch: {epoch}, train loss: {train_loss}, val loss: {val_loss}\")\n",
    "        scheduler.step()\n",
    "    return losses\n",
    "\n",
    "\n",
    "def fit_epoch(model: nn.Module, opt: optim.Adam, train_loader: DataLoader,\\\n",
    "              loss_func: nn.MSELoss, batch_size: int, train_total: int) -> float:\n",
    "    total_loss = 0\n",
    "    model.train()\n",
    "    for x, y in train_loader:\n",
    "        x, y = x.to(device), y.to(device)\n",
    "        outp = model(x)\n",
    "        loss = loss_func(outp, y)\n",
    "        opt.zero_grad()\n",
    "        loss.backward()\n",
    "        opt.step()\n",
    "        total_loss += loss.sum().item()\n",
    "        \n",
    "    return total_loss / train_total\n",
    "\n",
    "\n",
    "def val_epoch(model: nn.Module, val_loader: DataLoader, loss_func: nn.MSELoss, \\\n",
    "              batch_size: int, val_total: int) -> float:\n",
    "    total_loss = 0\n",
    "    model.eval()\n",
    "    for x, y in val_loader:\n",
    "        x, y = x.to(device), y.to(device)\n",
    "        with torch.set_grad_enabled(False):\n",
    "            outp = model(x)\n",
    "            loss = loss_func(outp, y)\n",
    "        total_loss += loss.item()\n",
    "        \n",
    "    return total_loss / val_total"
   ]
  },
  {
   "cell_type": "code",
   "execution_count": 8,
   "id": "545471b0-05a7-4a16-aa3b-5b37ff0eb5b0",
   "metadata": {
    "execution": {
     "iopub.execute_input": "2022-12-06T19:03:08.917214Z",
     "iopub.status.busy": "2022-12-06T19:03:08.916738Z",
     "iopub.status.idle": "2022-12-06T19:03:08.933532Z",
     "shell.execute_reply": "2022-12-06T19:03:08.932656Z",
     "shell.execute_reply.started": "2022-12-06T19:03:08.917186Z"
    }
   },
   "outputs": [],
   "source": [
    "class UNet(nn.Module):\n",
    "    def __init__(self, channelExponent: int = 6) -> None:\n",
    "        super().__init__()\n",
    "        channels = int(2 ** channelExponent + 0.5)\n",
    "        self.layer1 = nn.Sequential()\n",
    "        self.layer1.add_module('layer1_conv', nn.Conv2d(3, channels, 4, 2, 1, bias=True))\n",
    "\n",
    "        self.layer1 = nn.Sequential()\n",
    "        self.layer1.add_module('layer1_conv', nn.Conv2d(3, channels, 4, 2, 1, bias=True))\n",
    "\n",
    "        self.layer2 = self.__get_block_unet(channels  , channels*2, 'layer2', transposed=False )\n",
    "        self.layer2b= self.__get_block_unet(channels*2, channels*2, 'layer2b',transposed=False )\n",
    "        self.layer3 = self.__get_block_unet(channels*2, channels*4, 'layer3', transposed=False )\n",
    "        # note the following layer also had a kernel size of 2 in the original version (cf https://arxiv.org/abs/1810.08217)\n",
    "        # it is now changed to size 4 for encoder/decoder symmetry; to reproduce the old/original results, please change it to 2\n",
    "        self.layer4 = self.__get_block_unet(channels*4, channels*8, 'layer4', transposed=False ,  size=4 ) # note, size 4!\n",
    "        self.layer5 = self.__get_block_unet(channels*8, channels*8, 'layer5', transposed=False , size=2, pad=0)\n",
    "        self.layer6 = self.__get_block_unet(channels*8, channels*8, 'layer6', transposed=False, size=2, pad=0)\n",
    "\n",
    "        # note, kernel size is internally reduced by one now\n",
    "        self.dlayer6 = self.__get_block_unet(channels*8, channels*8, 'dlayer6', transposed=True, size=2, pad=0)\n",
    "        self.dlayer5 = self.__get_block_unet(channels*16,channels*8, 'dlayer5', transposed=True, size=2, pad=0)\n",
    "        self.dlayer4 = self.__get_block_unet(channels*16,channels*4, 'dlayer4', transposed=True ) \n",
    "        self.dlayer3 = self.__get_block_unet(channels*8, channels*2, 'dlayer3', transposed=True )\n",
    "        self.dlayer2b= self.__get_block_unet(channels*4, channels*2, 'dlayer2b',transposed=True )\n",
    "        self.dlayer2 = self.__get_block_unet(channels*4, channels  , 'dlayer2', transposed=True )\n",
    "\n",
    "        self.dlayer1 = nn.Sequential()\n",
    "        self.dlayer1.add_module('dlayer1_relu', nn.ReLU(inplace=True))\n",
    "        self.dlayer1.add_module('dlayer1_tconv', nn.ConvTranspose2d(channels*2, 3, 4, 2, 1, bias=True))\n",
    "\n",
    "    def forward(self, x: Tensor) -> Tensor:\n",
    "        out1 = self.layer1(x)\n",
    "        out2 = self.layer2(out1)\n",
    "        out2b= self.layer2b(out2)\n",
    "        out3 = self.layer3(out2b)\n",
    "        out4 = self.layer4(out3)\n",
    "        out5 = self.layer5(out4)\n",
    "        out6 = self.layer6(out5)\n",
    "        dout6 = self.dlayer6(out6)\n",
    "        dout6_out5 = torch.cat([dout6, out5], 1)\n",
    "        dout5 = self.dlayer5(dout6_out5)\n",
    "        dout5_out4 = torch.cat([dout5, out4], 1)\n",
    "        dout4 = self.dlayer4(dout5_out4)\n",
    "        dout4_out3 = torch.cat([dout4, out3], 1)\n",
    "        dout3 = self.dlayer3(dout4_out3)\n",
    "        dout3_out2b = torch.cat([dout3, out2b], 1)\n",
    "        dout2b = self.dlayer2b(dout3_out2b)\n",
    "        dout2b_out2 = torch.cat([dout2b, out2], 1)\n",
    "        dout2 = self.dlayer2(dout2b_out2)\n",
    "        dout2_out1 = torch.cat([dout2, out1], 1)\n",
    "        dout1 = self.dlayer1(dout2_out1)\n",
    "        return dout1\n",
    "\n",
    "    def __get_block_unet(self, in_c: int, out_c: int, name: str, transposed: bool = False, \\\n",
    "                   size:int = 4, pad: int = 1) -> nn.Sequential:\n",
    "        block = nn.Sequential()\n",
    "        block.add_module('%s_relu' % name, nn.ReLU(inplace=True))\n",
    "        if not transposed:\n",
    "            block.add_module('%s_conv' % name, nn.Conv2d(in_c, out_c, \\\n",
    "                                                   kernel_size=size,\\\n",
    "                                                   stride=2,\\\n",
    "                                                   padding=pad,\\\n",
    "                                                   bias=True))\n",
    "        else:\n",
    "            block.add_module('%s_upsam' % name, nn.Upsample(scale_factor=2,\\\n",
    "                                                      mode='bilinear'))\n",
    "            block.add_module('%s_convtr' % name, nn.Conv2d(in_c, out_c, \\\n",
    "                                                     kernel_size=(size -1),\\\n",
    "                                                     stride=1,\\\n",
    "                                                     padding=pad,\\\n",
    "                                                     bias=True))\n",
    "        block.add_module('%s_bn' %name, nn.BatchNorm2d(out_c))\n",
    "        return block"
   ]
  },
  {
   "cell_type": "code",
   "execution_count": 9,
   "id": "a3b8c158-761d-4b13-98a8-db2599d09e25",
   "metadata": {
    "execution": {
     "iopub.execute_input": "2022-12-06T19:03:16.898540Z",
     "iopub.status.busy": "2022-12-06T19:03:16.897797Z",
     "iopub.status.idle": "2022-12-06T19:03:17.021456Z",
     "shell.execute_reply": "2022-12-06T19:03:17.020656Z",
     "shell.execute_reply.started": "2022-12-06T19:03:16.898511Z"
    }
   },
   "outputs": [],
   "source": [
    "files = list(train_path.glob('*.npz'))\n",
    "train_files, val_files = train_test_split(files, test_size=0.2, random_state=42)\n",
    "train_dset = AirfoilDataset(train_files, 'train')\n",
    "val_dset = AirfoilDataset(val_files, 'val')"
   ]
  },
  {
   "cell_type": "code",
   "execution_count": 17,
   "id": "ed980503-c6ff-4cd1-b1be-948a7fb29b31",
   "metadata": {
    "execution": {
     "iopub.execute_input": "2022-12-06T19:47:49.168080Z",
     "iopub.status.busy": "2022-12-06T19:47:49.167728Z",
     "iopub.status.idle": "2022-12-06T19:47:49.267938Z",
     "shell.execute_reply": "2022-12-06T19:47:49.267147Z",
     "shell.execute_reply.started": "2022-12-06T19:47:49.168054Z"
    }
   },
   "outputs": [],
   "source": [
    "model = UNet()\n",
    "model.to(device)\n",
    "params = list(model.parameters())\n",
    "loss_func = nn.MSELoss()\n",
    "optimizer = optim.Adam(params, lr=1e-3)\n",
    "scheduler = optim.lr_scheduler.StepLR(optimizer, step_size=10, gamma=0.9)"
   ]
  },
  {
   "cell_type": "code",
   "execution_count": 18,
   "id": "f1162900-b384-46bf-88be-fdeceef06556",
   "metadata": {
    "execution": {
     "iopub.execute_input": "2022-12-06T19:47:50.986897Z",
     "iopub.status.busy": "2022-12-06T19:47:50.986081Z",
     "iopub.status.idle": "2022-12-06T19:54:36.931984Z",
     "shell.execute_reply": "2022-12-06T19:54:36.931095Z",
     "shell.execute_reply.started": "2022-12-06T19:47:50.986824Z"
    }
   },
   "outputs": [
    {
     "name": "stdout",
     "output_type": "stream",
     "text": [
      "Epoch: 0, train loss: 14171.800109863281, val loss: 16192.403918457032\n",
      "Epoch: 1, train loss: 14032.926104736329, val loss: 16100.006286621094\n",
      "Epoch: 2, train loss: 13869.679248046876, val loss: 15750.00810546875\n",
      "Epoch: 3, train loss: 13671.695587158203, val loss: 15941.202685546876\n"
     ]
    }
   ],
   "source": [
    "history = train(model, optimizer, train_dset, val_dset, loss_func, scheduler, epochs=4)"
   ]
  },
  {
   "cell_type": "code",
   "execution_count": 12,
   "id": "8ed29660-ea1b-41ab-ac57-9670e3e61d57",
   "metadata": {
    "execution": {
     "iopub.execute_input": "2022-12-06T19:39:54.037659Z",
     "iopub.status.busy": "2022-12-06T19:39:54.036686Z",
     "iopub.status.idle": "2022-12-06T19:39:54.043210Z",
     "shell.execute_reply": "2022-12-06T19:39:54.042090Z",
     "shell.execute_reply.started": "2022-12-06T19:39:54.037629Z"
    }
   },
   "outputs": [],
   "source": [
    "def visualize_history(history: List[List[float]]) -> None:\n",
    "    for i in range(len(history[0])):\n",
    "        fig, ax = plt.subplots(figsize=(10,6))\n",
    "        sns.lineplot(x=list(range(0, len(history))), y=[epoch_hist[i] for epoch_hist in history])\n",
    "        ax.set_ylabel('loss')\n",
    "        ax.set_xlabel('epochs')\n",
    "        plt.show()"
   ]
  },
  {
   "cell_type": "code",
   "execution_count": 19,
   "id": "67d60a0f-183e-44a3-aa53-aafb21166465",
   "metadata": {
    "execution": {
     "iopub.execute_input": "2022-12-06T19:54:58.881350Z",
     "iopub.status.busy": "2022-12-06T19:54:58.880450Z",
     "iopub.status.idle": "2022-12-06T19:54:59.154521Z",
     "shell.execute_reply": "2022-12-06T19:54:59.153699Z",
     "shell.execute_reply.started": "2022-12-06T19:54:58.881321Z"
    }
   },
   "outputs": [
    {
     "data": {
      "image/png": "[encoded data removed]",
      "text/plain": [
       "<Figure size 720x432 with 1 Axes>"
      ]
     },
     "metadata": {
      "needs_background": "light"
     },
     "output_type": "display_data"
    },
    {
     "data": {
      "image/png": "[encoded data removed]",
      "text/plain": [
       "<Figure size 720x432 with 1 Axes>"
      ]
     },
     "metadata": {
      "needs_background": "light"
     },
     "output_type": "display_data"
    }
   ],
   "source": [
    "visualize_history(history)"
   ]
  },
  {
   "cell_type": "code",
   "execution_count": 16,
   "id": "01e9f0a6-d74e-4dad-a54a-bcd56b21e84f",
   "metadata": {
    "execution": {
     "iopub.execute_input": "2022-12-06T19:47:06.538043Z",
     "iopub.status.busy": "2022-12-06T19:47:06.537798Z",
     "iopub.status.idle": "2022-12-06T19:47:06.558517Z",
     "shell.execute_reply": "2022-12-06T19:47:06.557780Z",
     "shell.execute_reply.started": "2022-12-06T19:47:06.538018Z"
    }
   },
   "outputs": [],
   "source": [
    "val_loader = DataLoader(val_dset, shuffle=False)\n",
    "preds = None\n",
    "g_t = None\n",
    "model.eval()\n",
    "    for x, y in val_loader:\n",
    "    with torch.set_grad_enabled(False):\n",
    "        x, y = x.to(device), y\n",
    "        preds = model(x)\n",
    "        g_t = y.cpu()\n",
    "    break"
   ]
  },
  {
   "cell_type": "code",
   "execution_count": 22,
   "id": "6aa93cbb-54f7-4ade-9293-b8a050599f8e",
   "metadata": {
    "execution": {
     "iopub.execute_input": "2022-12-06T19:56:06.349367Z",
     "iopub.status.busy": "2022-12-06T19:56:06.348337Z",
     "iopub.status.idle": "2022-12-06T19:56:06.356472Z",
     "shell.execute_reply": "2022-12-06T19:56:06.355106Z",
     "shell.execute_reply.started": "2022-12-06T19:56:06.349321Z"
    }
   },
   "outputs": [
    {
     "name": "stdout",
     "output_type": "stream",
     "text": [
      "/notebooks\n"
     ]
    }
   ],
   "source": [
    "%cd .."
   ]
  },
  {
   "cell_type": "code",
   "execution_count": 23,
   "id": "36bdd8d8-d548-41e9-be71-2c9c75d1a818",
   "metadata": {
    "execution": {
     "iopub.execute_input": "2022-12-06T19:56:07.740985Z",
     "iopub.status.busy": "2022-12-06T19:56:07.740261Z",
     "iopub.status.idle": "2022-12-06T19:56:07.747023Z",
     "shell.execute_reply": "2022-12-06T19:56:07.745741Z",
     "shell.execute_reply.started": "2022-12-06T19:56:07.740955Z"
    }
   },
   "outputs": [
    {
     "data": {
      "text/plain": [
       "PosixPath('/notebooks')"
      ]
     },
     "execution_count": 23,
     "metadata": {},
     "output_type": "execute_result"
    }
   ],
   "source": [
    "Path.cwd()"
   ]
  },
  {
   "cell_type": "code",
   "execution_count": 27,
   "id": "6dcc1b5f-1e3d-4acc-b575-25d6aa3770d6",
   "metadata": {
    "execution": {
     "iopub.execute_input": "2022-12-06T19:57:52.616317Z",
     "iopub.status.busy": "2022-12-06T19:57:52.615145Z",
     "iopub.status.idle": "2022-12-06T19:57:53.445561Z",
     "shell.execute_reply": "2022-12-06T19:57:53.444716Z",
     "shell.execute_reply.started": "2022-12-06T19:57:52.616278Z"
    }
   },
   "outputs": [],
   "source": [
    "torch.save(model.state_dict(), 'model_weights.pth')"
   ]
  }
 ],
 "metadata": {
  "kernelspec": {
   "display_name": "Python 3 (ipykernel)",
   "language": "python",
   "name": "python3"
  },
  "language_info": {
   "codemirror_mode": {
    "name": "ipython",
    "version": 3
   },
   "file_extension": ".py",
   "mimetype": "text/x-python",
   "name": "python",
   "nbconvert_exporter": "python",
   "pygments_lexer": "ipython3",
   "version": "3.9.13"
  }
 },
 "nbformat": 4,
 "nbformat_minor": 5
}
