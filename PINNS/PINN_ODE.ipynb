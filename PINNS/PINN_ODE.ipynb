{
  "nbformat": 4,
  "nbformat_minor": 0,
  "metadata": {
    "colab": {
      "provenance": [],
      "collapsed_sections": []
    },
    "kernelspec": {
      "name": "python3",
      "display_name": "Python 3"
    },
    "language_info": {
      "name": "python"
    },
    "accelerator": "GPU",
    "gpuClass": "standard"
  },
  "cells": [
    {
      "cell_type": "code",
      "source": [
        "!pip install pyDOE"
      ],
      "metadata": {
        "colab": {
          "base_uri": "https://localhost:8080/"
        },
        "id": "s_iiRuCIgqNQ",
        "outputId": "9c35f324-5edd-4cee-fce0-3575653b9ead"
      },
      "execution_count": 1,
      "outputs": [
        {
          "output_type": "stream",
          "name": "stdout",
          "text": [
            "Looking in indexes: https://pypi.org/simple, https://us-python.pkg.dev/colab-wheels/public/simple/\n",
            "Collecting pyDOE\n",
            "  Downloading pyDOE-0.3.8.zip (22 kB)\n",
            "Requirement already satisfied: numpy in /usr/local/lib/python3.7/dist-packages (from pyDOE) (1.21.6)\n",
            "Requirement already satisfied: scipy in /usr/local/lib/python3.7/dist-packages (from pyDOE) (1.7.3)\n",
            "Building wheels for collected packages: pyDOE\n",
            "  Building wheel for pyDOE (setup.py) ... \u001b[?25l\u001b[?25hdone\n",
            "  Created wheel for pyDOE: filename=pyDOE-0.3.8-py3-none-any.whl size=18184 sha256=c5d61cd9f1de5855527a2a0790b29319eee651213770f3d1a1b7b67fba3bda79\n",
            "  Stored in directory: /root/.cache/pip/wheels/83/ce/8a/87b25c685bfeca1872d13b8dc101e087a9c6e3fb5ebb47022a\n",
            "Successfully built pyDOE\n",
            "Installing collected packages: pyDOE\n",
            "Successfully installed pyDOE-0.3.8\n"
          ]
        }
      ]
    },
    {
      "cell_type": "code",
      "source": [
        "import torch\n",
        "from torch import Tensor\n",
        "from torch import nn\n",
        "from torch.nn import Module, ModuleList\n",
        "from torch.optim import Adam\n",
        "import torch.autograd as autograd\n",
        "\n",
        "\n",
        "from pyDOE import lhs\n",
        "import numpy as np\n",
        "from typing import Tuple, List\n",
        "import matplotlib.pyplot as plt\n",
        "import seaborn as sns"
      ],
      "metadata": {
        "id": "SnzA9a-qyaeH"
      },
      "execution_count": 53,
      "outputs": []
    },
    {
      "cell_type": "code",
      "source": [
        "torch.set_default_dtype(torch.float)\n",
        "\n",
        "# Генератор случайных чисел в PyTorch\n",
        "torch.manual_seed(1234)\n",
        "\n",
        "# Генератор случайных чисел в Numpy\n",
        "np.random.seed(1234)\n",
        "\n",
        "# Конфигурация устройтсва, на котором будут производиться вычисления\n",
        "device = torch.device('cuda' if torch.cuda.is_available() else 'cpu')\n",
        "\n",
        "print(device)\n",
        "\n",
        "if device == 'cuda': \n",
        "    print(torch.cuda.get_device_name())"
      ],
      "metadata": {
        "colab": {
          "base_uri": "https://localhost:8080/"
        },
        "id": "g30-GHCmBf81",
        "outputId": "1a68db65-941e-4452-c8ca-b5161a1eaa8d"
      },
      "execution_count": 3,
      "outputs": [
        {
          "output_type": "stream",
          "name": "stdout",
          "text": [
            "cuda\n"
          ]
        }
      ]
    },
    {
      "cell_type": "markdown",
      "source": [
        "**Рассмотрим решение задачи аппроксимации функции через дифференциальное уравнение, с помощью нейронной сети.**\n",
        "\n",
        "\n",
        "\n"
      ],
      "metadata": {
        "id": "nk7dXT9s0HSL"
      }
    },
    {
      "cell_type": "markdown",
      "source": [
        "Настоящая функция - $e^{x} - 2\\sin{\\pi x}$ <br/>\n",
        "Будем рассмтаривать на промежутке $x \\in [0, 1]$, <br/>\n",
        "и сопутствующее дифференциальное уравнение: $\\frac{df}{dx} - e^{x} + 2 \\pi \\cos{\\pi x} = 0$ <br/>\n",
        "Начальное условие: $f(0) = {1}$\n",
        "\n",
        "План действий:\n",
        "\n",
        "*   Сгенерировать данные, которые подразумеваются под экспериментальными\n",
        "*   Записать функционал ошибки\n",
        "*   Написать нейронную сеть, которая будет обучаться на данных с ОДУ\n",
        "*   Запустить процесс тренировки и посмотреть на данные\n",
        "\n",
        "Полезно рассмотреть данный случай, т.к. от него можно затем переходить к функции двух переменных, а после рассматривать лишь диффур с экспериментальными данными и пытаться воссоздать изначальную функцию (например, поле скоростей по уравнениям Навье-Стокса).\n",
        "\n",
        "Примечательно то, что сеть обучается только на информации о дифференциальном уравнении и начальном условии"
      ],
      "metadata": {
        "id": "GjMZH1dU0rqf"
      }
    },
    {
      "cell_type": "markdown",
      "source": [
        "<h3>Струкутра данных для хранения всех парамертов сети и задачи</h3>"
      ],
      "metadata": {
        "id": "ZUI-dUy4VV0a"
      }
    },
    {
      "cell_type": "code",
      "source": [
        "from dataclasses import dataclass\n",
        "\n",
        "@dataclass\n",
        "class PINNParams:\n",
        "  '''\n",
        "  Данный датакласс предназначен для хранения параметров сети и данных\n",
        "  '''\n",
        "\n",
        "  # Количество шагов в обучении сети\n",
        "  steps: int\n",
        "\n",
        "  # Параметр для шага градиентного спуска\n",
        "  lr: float\n",
        "\n",
        "  # Размерности линейных слоёв в сети\n",
        "  layers: np.array\n",
        "\n",
        "  # Начальное значение для x\n",
        "  start_x: float\n",
        "\n",
        "  # Конечное значение для x\n",
        "  end_x: float\n",
        "\n",
        "  # Количество точек\n",
        "  num_observations: int\n",
        "\n",
        "  # Количество точек для начального условия\n",
        "  Nu: int\n",
        "\n",
        "  # Количество точек в которых решается ODE\n",
        "  Nf: int"
      ],
      "metadata": {
        "id": "tE9C-XO-gNPi"
      },
      "execution_count": 4,
      "outputs": []
    },
    {
      "cell_type": "markdown",
      "source": [
        "<h3>Аналитическая запись исходной функции $f(x)$</h3>"
      ],
      "metadata": {
        "id": "2BNETU32p-K_"
      }
    },
    {
      "cell_type": "code",
      "source": [
        "def f_real(x: torch.Tensor) -> torch.Tensor:\n",
        "  return torch.exp(x) - 2. * torch.sin(np.pi * x)"
      ],
      "metadata": {
        "id": "q3TGwHX60dFQ"
      },
      "execution_count": 5,
      "outputs": []
    },
    {
      "cell_type": "markdown",
      "source": [
        "<h3>Функция, которая считет правую часть дифференциального уравнения</h3>"
      ],
      "metadata": {
        "id": "Q8KNJ8hfVdua"
      }
    },
    {
      "cell_type": "code",
      "source": [
        "def f_ODE(x: torch.Tensor) -> torch.Tensor:\n",
        "  return torch.exp(x) - 2. * np.pi * torch.cos(np.pi * x)"
      ],
      "metadata": {
        "id": "dlcVY4vSVnFG"
      },
      "execution_count": 44,
      "outputs": []
    },
    {
      "cell_type": "markdown",
      "source": [
        "<h3>Функция, возвращающая начальное условие</h3>"
      ],
      "metadata": {
        "id": "Y_p6M-ZlWOvM"
      }
    },
    {
      "cell_type": "code",
      "source": [
        "def f_IC(x: torch.Tensor) -> torch.Tensor:\n",
        "  return torch.ones(x.shape)"
      ],
      "metadata": {
        "id": "i8uWDZukWO7r"
      },
      "execution_count": 45,
      "outputs": []
    },
    {
      "cell_type": "markdown",
      "source": [
        "<h3>Функция, которая генерирует данные</h3>"
      ],
      "metadata": {
        "id": "kZG-mE5TVmEd"
      }
    },
    {
      "cell_type": "code",
      "source": [
        "def generate_data(params: PINNParams) -> Tuple[torch.Tensor]:\n",
        "  '''\n",
        "  Функция создаёт набор данных для обучения нейронной сети\n",
        "  param: params - PINNParams - гиперпараметры задачи и нейронной сети\n",
        "  return: Tuple[torch.Tensor] - кортеж из двух тензоров - для расчетной области и для Н.У.\n",
        "  '''\n",
        "  # Функция torch.linspace создаёт разбиение отрезка [start_x; end_x] на n точек\n",
        "  x = torch.linspace(params.start_x, params.end_x, params.num_observations).view(-1,1)\n",
        "\n",
        "  # Начальное условие - первая точка\n",
        "  x_IC = x[0,:]\n",
        "  \n",
        "  # Точки в которых 'решается' ODE - все остальные\n",
        "  x_ODE = x[1:,:]\n",
        "  # lhs - функция, которая генерирует случайную выборку на основе количества точек params.Nf\n",
        "  x_ODE = params.start_x + (params.end_x - params.start_x) * lhs(1, params.Nf)\n",
        "  # Перевод из вектора numpy в тензор torch\n",
        "  x_ODE = torch.from_numpy(x_ODE)\n",
        "\n",
        "  return x_ODE, x_IC"
      ],
      "metadata": {
        "id": "54aIYlbT3O2u"
      },
      "execution_count": 46,
      "outputs": []
    },
    {
      "cell_type": "markdown",
      "source": [
        "<h3>Нейронная сеть</h3>"
      ],
      "metadata": {
        "id": "a-SJneiAV2ZS"
      }
    },
    {
      "cell_type": "code",
      "source": [
        "class PINN(Module):\n",
        "  def __init__(self, layers: np.array) -> None:\n",
        "    '''\n",
        "    Метод инициализирует параметры Физико-Информированной нейронной сети\n",
        "    param: layers - np.array[int]\n",
        "    return: None\n",
        "    '''\n",
        "\n",
        "    # Передаём инициализацию родительскому классу Module\n",
        "    super().__init__()\n",
        "\n",
        "    # Обозначим функцию активации\n",
        "    self.activation = nn.Tanh()\n",
        "\n",
        "    # Функция потерь - среднеквадратичное отклонение\n",
        "    self.loss_function = nn.MSELoss()\n",
        "\n",
        "    # Определяем слои нейронной сети, в данном случае - полносвязные\n",
        "    self.layers = nn.ModuleList([nn.Linear(layers[i], layers[i + 1]) for i in range(len(layers)-1)])\n",
        "\n",
        "    # Счётчик количества итераций\n",
        "    self.iter = 0\n",
        "\n",
        "    # Инициализация весов методом Ксавье: https://pytorch.org/docs/stable/nn.init.html\n",
        "    for i in range(len(layers)-1):\n",
        "      \n",
        "      # Инициализируем веса нормальным распределением, что также помогает обучению\n",
        "      nn.init.xavier_normal_(self.layers[i].weight.data, gain=1.)\n",
        "\n",
        "      # Инициализируем нулями свободный вектор, который прибавляется к\n",
        "      # произведению весов на x\n",
        "      nn.init.zeros_(self.layers[i].bias.data)\n",
        "\n",
        "  def forward(self, x: torch.Tensor) -> torch.Tensor:\n",
        "    '''\n",
        "    Метод, определяющий прямой ход нейронной сети\n",
        "    param: x - torch.Tensor - входные данные\n",
        "    return: x' - torch.Tensor - предсказание нейронной сети (значение в данной точке)\n",
        "    '''\n",
        "\n",
        "    # Обеспечиваем иммутабельность входных данных\n",
        "    a = x.clone()\n",
        "    a = a.to(device)\n",
        "    # В цикле проходимся по каждому слою нашей нейронной сети\n",
        "    for i in range(len(self.layers) - 2):\n",
        "\n",
        "      # Применяем линейный слой на данных\n",
        "      z = self.layers[i](a)\n",
        "      \n",
        "      # И функцию активации\n",
        "      a = self.activation(z)\n",
        "\n",
        "    # Отдельно применяем последний слой, т.к. после него нет активации\n",
        "    a = self.layers[-1](a)\n",
        "\n",
        "    return a\n",
        "\n",
        "  def lossIC(self, x_IC: torch.Tensor) -> float:\n",
        "    '''\n",
        "    Метод вычисляет ошибку нейронной сети на начальном условии\n",
        "    param: x_IC: torch.Tensor - точки, в которых считется начальное условие\n",
        "    return: float - численное значение ошибки\n",
        "    '''\n",
        "    g = x_IC.clone().to(device)\n",
        "\n",
        "    # Считаем среднеквадратичное отклонение выхода нейронной сети для начального условия\n",
        "    loss_IC = self.loss_function(f_IC(g).to(device), self.forward(g))\n",
        "\n",
        "    return loss_IC\n",
        "\n",
        "  def lossODE(self, x_ODE: torch.Tensor) -> float:\n",
        "    '''\n",
        "    Метод вычисляет ошибку нейронной сети по соответствии дифференциальному уравнению\n",
        "    param: x_PDE - torch.Tensor - точки, в которых считается уравнение\n",
        "    return: float - численное значение ошибки\n",
        "    '''\n",
        "\n",
        "    g = x_ODE.clone().to(device)\n",
        "    \n",
        "    # Указываем, что сеть должна автоматически подсчитывать градиент функции\n",
        "    g.requires_grad=True\n",
        "    \n",
        "    # Правая часть ОДУ\n",
        "    right_ode = f_ODE(g).to(device)\n",
        "\n",
        "    f = self.forward(g)\n",
        "\n",
        "    # Градиент выхода сети f по параметрам g с задаваемым размером якобиана\n",
        "    # https://pytorch.org/docs/stable/autograd.html\n",
        "    f_x = autograd.grad(f, g, torch.ones([x_ODE.shape[0],1]).to(device), retain_graph=True, create_graph=True)[0]\n",
        "\n",
        "    # Среднеквадратичное отклонение производной нейросети и правой части ОДУ\n",
        "    loss_ODE = self.loss_function(f_x, right_ode)\n",
        "    return loss_ODE\n",
        "\n",
        "\n",
        "  def lossNN(self, x_ODE: torch.Tensor, x_IC: torch.Tensor) -> float:\n",
        "    '''\n",
        "    Метод суммирует ошибки по соответствию диффуру и начальному условию\n",
        "    input: x: torch.Tensor\n",
        "    return: float - численное значение ошибки\n",
        "    '''\n",
        "    x_ODEC = x_ODE.clone()\n",
        "    x_ICC = x_IC.clone()\n",
        "    loss_ODE = self.lossODE(x_ODEC)\n",
        "    loss_IC = self.lossIC(x_ICC.view(-1,1))\n",
        "\n",
        "    loss = loss_ODE + loss_IC\n",
        "    return loss\n",
        "  "
      ],
      "metadata": {
        "id": "1jknswLJ5nVj"
      },
      "execution_count": 52,
      "outputs": []
    },
    {
      "cell_type": "markdown",
      "source": [
        "<center>Немного подробностей про lossNN:</center><br/>\n",
        "Данная функция вычисляет ошибку нейронной сети, которая складывается из двух слагаемых:<br/>\n",
        "${loss = \\sum_{i}^{Nf}||NN^{'}_{i} - ODE_{i}||_{2} + \\alpha \\sum_{j}^{Nu} || NN_{j} - IC_{j}||_{2}}$ <br/>\n",
        "Здесь $NN$ - выход нейронной сети, $ODE$ - правая часть ОДУ, $IC$ - начальные условия, $\\alpha$ - параметр, который уравнивает слагаемые функционала.\n",
        "В нашем случае в начальные условия входит всего одна точка, поэтому я оставил $\\alpha = 1$"
      ],
      "metadata": {
        "id": "xid5xosBXO1T"
      }
    },
    {
      "cell_type": "markdown",
      "source": [
        "<h3>Функция, которая гененрирует разбиение датасета на батчи (для стохастического градидентного спуска)<br/>\n",
        "Возможно для данной задачи не так актуально, но вообще это хороший тон</h3>"
      ],
      "metadata": {
        "id": "V69w-gG0YtX1"
      }
    },
    {
      "cell_type": "code",
      "source": [
        "def get_batch(x_ODE: torch.Tensor, x_IC: torch.Tensor) -> torch.Tensor:\n",
        "\n",
        "  # Получаем все индексы для наших данных\n",
        "  indices = list(range(x_ODE.shape[0]))\n",
        "\n",
        "  # Перемешиваем в случайном порядке\n",
        "  np.random.shuffle(indices)\n",
        "\n",
        "  # Определяем размер батча\n",
        "  batch_size = 50\n",
        "\n",
        "  # Делаем массив срезов\n",
        "  slices = [indices[i*batch_size:(i+1) * batch_size] for i in range(int(np.floor(x_ODE.shape[0] / batch_size)))]\n",
        "  for i in range(len(slices)):\n",
        "    # Выдаём значения\n",
        "    yield x_ODE[slices[i]], x_IC"
      ],
      "metadata": {
        "id": "Ps7KbDyi30SN"
      },
      "execution_count": 31,
      "outputs": []
    },
    {
      "cell_type": "code",
      "source": [
        "def train(params: PINNParams) -> None:\n",
        "  '''\n",
        "  Функция для обучения нейронной сети\n",
        "  '''\n",
        "\n",
        "  # Создаём объект класса нашей нейронной сети\n",
        "  nn = PINN(params.layers)\n",
        "\n",
        "  nn.to(device)\n",
        "\n",
        "  # Сохраняем параметры модели, чтобы передать в оптимизатор\n",
        "  model_params = list(nn.parameters())\n",
        "\n",
        "  # Инициализируем оптимизатор, lr - шаг обучения, amsgrad - надстройка \n",
        "  # https://openreview.net/forum?id=ryQu7f-RZ\n",
        "  optimizer = Adam(model_params, lr=params.lr, amsgrad=False)\n",
        "\n",
        "  # Счётчик итераций\n",
        "  i = 0\n",
        "\n",
        "  x_ODE, x_IC = generate_data(params)\n",
        "\n",
        "  loss_history = []\n",
        "\n",
        "  while True:\n",
        "\n",
        "    for x_ODE_batch, x_IC_batch in get_batch(x_ODE, x_IC):\n",
        "\n",
        "      x_ODE_batch = x_ODE_batch.float().to(device)\n",
        "      x_IC_batch = x_IC_batch.float().to(device)\n",
        "\n",
        "      # Совершаем проход нейронной сети\n",
        "      yh = nn(x_ODE_batch)\n",
        "\n",
        "      # Вычисляем ошибку\n",
        "      loss = nn.lossNN(x_ODE_batch, x_IC_batch)\n",
        "\n",
        "      # Обнуляем градиенты оптимизатора\n",
        "      optimizer.zero_grad()\n",
        "\n",
        "      # Совершаем обратный проход по нейросети и вычисляем градиент\n",
        "      loss.backward()\n",
        "\n",
        "      # Шаг против направления градиента для обновления весов слоёв\n",
        "      optimizer.step()\n",
        "\n",
        "      # Добавляем ошибку в историю\n",
        "      loss_history.append(loss.data.cpu().item())\n",
        "\n",
        "    if i%(params.steps/10)==0:\n",
        "      print(f'Ошибка - {loss_history[-1]}, итерация - {i + 1}')\n",
        "\n",
        "    # Условие завершения обучения:\n",
        "    if loss.data < 1e-05:\n",
        "      break\n",
        "    i += 1\n",
        "  print(f'Обучение завершено за {i + 1} эпох, финальная ошибка - {loss_history[-1]}')\n",
        "  return nn, loss_history"
      ],
      "metadata": {
        "id": "esp25-RRlzXD"
      },
      "execution_count": 102,
      "outputs": []
    },
    {
      "cell_type": "code",
      "source": [
        "torch.manual_seed(123)"
      ],
      "metadata": {
        "colab": {
          "base_uri": "https://localhost:8080/"
        },
        "id": "g3XpwS5HjP3I",
        "outputId": "9ccede7a-4e27-467e-c2c7-b0592348e1ec"
      },
      "execution_count": 99,
      "outputs": [
        {
          "output_type": "execute_result",
          "data": {
            "text/plain": [
              "<torch._C.Generator at 0x7f80b2a83790>"
            ]
          },
          "metadata": {},
          "execution_count": 99
        }
      ]
    },
    {
      "cell_type": "code",
      "source": [
        "params = PINNParams(4500, 0.001, np.array([1,50,50,20,50,50,1]), 0., 1., 500, 1, 499)"
      ],
      "metadata": {
        "id": "BRmpZh1QXMUt"
      },
      "execution_count": 100,
      "outputs": []
    },
    {
      "cell_type": "code",
      "source": [
        "model, loss_history = train(params)"
      ],
      "metadata": {
        "colab": {
          "base_uri": "https://localhost:8080/"
        },
        "id": "3m0rpCNjaEBo",
        "outputId": "f061b122-e15c-4bb2-aa0c-3c814e566db8"
      },
      "execution_count": 103,
      "outputs": [
        {
          "output_type": "stream",
          "name": "stdout",
          "text": [
            "Ошибка - 25.190532684326172, итерация - 1\n",
            "Ошибка - 0.0001536943018436432, итерация - 451\n",
            "Обучение завершено за 594 эпох, финальная ошибка - 6.6961015363631304e-06\n"
          ]
        }
      ]
    },
    {
      "cell_type": "markdown",
      "source": [
        "<h3>Визуализируем ошибки</h3>"
      ],
      "metadata": {
        "id": "w1LUoKE7lpJA"
      }
    },
    {
      "cell_type": "code",
      "source": [
        "def visualize_loss_history(loss_history: List[float]) -> None:\n",
        "  fig, ax = plt.subplots()\n",
        "  fig.set_size_inches(16, 12)\n",
        "  sns.lineplot(y=loss_history, x = list(range(len(loss_history))), color='orange', label='loss')\n",
        "  ax.set_title('График зависимости ошибки от количества эпох')\n",
        "  plt.show()"
      ],
      "metadata": {
        "id": "TCrhzYesiV8l"
      },
      "execution_count": 122,
      "outputs": []
    },
    {
      "cell_type": "code",
      "source": [
        "visualize_loss_history(loss_history)"
      ],
      "metadata": {
        "colab": {
          "base_uri": "https://localhost:8080/",
          "height": 716
        },
        "id": "l5F1RYk5iwzp",
        "outputId": "f197fc0e-785c-4093-b01b-3fa087d2c530"
      },
      "execution_count": 123,
      "outputs": [
        {
          "output_type": "display_data",
          "data": {
            "text/plain": [
              "<Figure size 1152x864 with 1 Axes>"
            ],
            "image/png": "[encoded data removed]"
          },
          "metadata": {
            "needs_background": "light"
          }
        }
      ]
    },
    {
      "cell_type": "code",
      "source": [
        "def visualize_predictions(start_x: float, end_x: float, model: PINN) -> None:\n",
        "  x_test = torch.linspace(start_x, end_x, 200)\n",
        "  yh = model(x_test.view(-1,1))\n",
        "  preds = yh.data.cpu().view(-1).numpy()\n",
        "  ground_truth = f_real(x_test.view(-1,1))\n",
        "  x_test = x_test.data.view(-1).numpy()\n",
        "  ground_truth = ground_truth.view(-1).numpy()\n",
        "  fig, ax = plt.subplots()\n",
        "  fig.set_size_inches(16, 12)\n",
        "  sns.lineplot(x=x_test, y=ground_truth, color='orange', label='Аналитическая фунцкия')\n",
        "  sns.lineplot(x=x_test, y=preds, color='blue', label='Предсказание нейронной сети')\n",
        "  ax.set_title('Сравнение настоящей функции и предсказание нейронной сети')\n",
        "  ax.legend()\n",
        "  plt.show()"
      ],
      "metadata": {
        "id": "ZglMGiWH4r2g"
      },
      "execution_count": 124,
      "outputs": []
    },
    {
      "cell_type": "code",
      "source": [
        "visualize_predictions(-0.5, 1.5, model)"
      ],
      "metadata": {
        "colab": {
          "base_uri": "https://localhost:8080/",
          "height": 716
        },
        "id": "bcrNFJ9_6A-U",
        "outputId": "2fdd9f95-6109-4ab2-8caa-8596715e79ac"
      },
      "execution_count": 125,
      "outputs": [
        {
          "output_type": "display_data",
          "data": {
            "text/plain": [
              "<Figure size 1152x864 with 1 Axes>"
            ],
            "image/png": "[encoded data removed]"
          },
          "metadata": {
            "needs_background": "light"
          }
        }
      ]
    }
  ]
}